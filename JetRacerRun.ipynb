{
  "cells": [
    {
      "cell_type": "code",
      "execution_count": null,
      "metadata": {
        "id": "PdFnhjwmkV0h"
      },
      "outputs": [],
      "source": [
        "from jetracer.nvidia_racecar import NvidiaRacecar\n",
        "car = NvidiaRacecar()\n",
        "\n",
        "from jetcam.csi_camera import CSICamera\n",
        "camera = CSICamera(width=224, height=224, capture_fps=1)"
      ]
    },
    {
      "cell_type": "code",
      "execution_count": null,
      "metadata": {
        "id": "HLoiILZykV04"
      },
      "outputs": [],
      "source": [
        "import torch\n",
        "import torchvision\n",
        "\n",
        "device = torch.device('cuda')"
      ]
    },
    {
      "cell_type": "code",
      "execution_count": null,
      "metadata": {
        "id": "TLUPVpprkV08"
      },
      "outputs": [],
      "source": [
        "# Move to your workspace\n",
        "%cd /workspace/elens/JetRacer"
      ]
    },
    {
      "cell_type": "code",
      "execution_count": null,
      "metadata": {
        "id": "ori9cNcCkV0-",
        "outputId": "95362585-0330-4d88-de70-1414ddf68f74"
      },
      "outputs": [
        {
          "name": "stdout",
          "output_type": "stream",
          "text": [
            "resnet18\n",
            "---------- Networks initialized -------------\n",
            "model [resnet18] was created\n"
          ]
        }
      ],
      "source": [
        "from models.models import create_model\n",
        "import argparse\n",
        "from options.KD_test_options import TestOptions\n",
        "\n",
        "opt = argparse.Namespace(\n",
        "    dataroot='./datasets/Asan', \n",
        "    batchSize=1, \n",
        "    loadSize=224, \n",
        "    fineSize=224, \n",
        "    input_nc=3, \n",
        "    output_nc=7, \n",
        "    gpu_ids=[0], \n",
        "    name='', \n",
        "    dataset_mode='unaligned_posenet', \n",
        "    model='resnet18', \n",
        "    nThreads=8, \n",
        "    checkpoints_dir='./checkpoints', \n",
        "    serial_batches=False, \n",
        "    no_dropout=False, \n",
        "    resize_or_crop='scale_width_and_crop', \n",
        "    no_flip=True, seed=0, beta=500.0, ntest=1000, \n",
        "    results_dir='./results', aspect_ratio=1.0, phase='test', which_epoch='latest', pretrained=False, isTrain=False, isKD=True)\n",
        "\n",
        "model = create_model(opt)"
      ]
    },
    {
      "cell_type": "code",
      "execution_count": null,
      "metadata": {
        "id": "5kEPZeO6kV1C"
      },
      "outputs": [],
      "source": [
        "import numpy as np\n",
        "import torch\n",
        "import torchvision.transforms as transforms\n",
        "import torch.nn.functional as F\n",
        "import PIL.Image\n",
        "import numpy as np\n",
        "\n",
        "def preprocess(image):\n",
        "    image = PIL.Image.fromarray(image)\n",
        "    image = transforms.functional.to_tensor(image).to(device)\n",
        "    \n",
        "    centercrop = transforms.CenterCrop(224)\n",
        "    image = centercrop(image).reshape([1, 3, 224, 224])\n",
        "    \n",
        "    return image"
      ]
    },
    {
      "cell_type": "code",
      "source": [
        "try : \n",
        "    while True:\n",
        "        car.throttle = 0.3\n",
        "        image = camera.read()\n",
        "        image = preprocess(image)\n",
        "\n",
        "        model.set_input_(image)\n",
        "        model.test()\n",
        "        pose = model.get_current_pose()\n",
        "\n",
        "        x = float(pose[0])\n",
        "        z = float(pose[2])\n",
        "\n",
        "        if (((x > 9) and (x < 11)) and ((z > -24) and (z < -22))) :\n",
        "            car.steering = 0.7\n",
        "            pass\n",
        "        else :\n",
        "            pass\n",
        "    \n",
        "except KeyboardInterrupt:\n",
        "    car.throttle = 0"
      ],
      "metadata": {
        "id": "9eKgfma7l5rp"
      },
      "execution_count": null,
      "outputs": []
    }
  ],
  "metadata": {
    "kernelspec": {
      "display_name": "Python 3",
      "language": "python",
      "name": "python3"
    },
    "language_info": {
      "codemirror_mode": {
        "name": "ipython",
        "version": 3
      },
      "file_extension": ".py",
      "mimetype": "text/x-python",
      "name": "python",
      "nbconvert_exporter": "python",
      "pygments_lexer": "ipython3",
      "version": "3.6.9"
    },
    "colab": {
      "provenance": []
    }
  },
  "nbformat": 4,
  "nbformat_minor": 0
}